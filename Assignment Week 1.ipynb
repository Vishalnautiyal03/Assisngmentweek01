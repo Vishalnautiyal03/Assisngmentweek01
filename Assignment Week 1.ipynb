{
 "cells": [
  {
   "cell_type": "code",
   "execution_count": 1,
   "id": "26724efb-0e57-4583-8ede-df4841396701",
   "metadata": {},
   "outputs": [],
   "source": [
    "a = \"Vishal\""
   ]
  },
  {
   "cell_type": "code",
   "execution_count": 2,
   "id": "400b2f96-0159-48a3-bfeb-539344e0b9d0",
   "metadata": {},
   "outputs": [
    {
     "data": {
      "text/plain": [
       "'Vishal'"
      ]
     },
     "execution_count": 2,
     "metadata": {},
     "output_type": "execute_result"
    }
   ],
   "source": [
    "a\n"
   ]
  },
  {
   "cell_type": "code",
   "execution_count": 3,
   "id": "8feacab1-8b90-4c33-b3d4-65e18697a7a2",
   "metadata": {},
   "outputs": [],
   "source": [
    "l=[1,5,7,True,55.10,7+5J]"
   ]
  },
  {
   "cell_type": "code",
   "execution_count": 4,
   "id": "f8501ea3-c432-4541-9bef-e60447d7b557",
   "metadata": {},
   "outputs": [
    {
     "data": {
      "text/plain": [
       "[1, 5, 7, True, 55.1, (7+5j)]"
      ]
     },
     "execution_count": 4,
     "metadata": {},
     "output_type": "execute_result"
    }
   ],
   "source": [
    "l"
   ]
  },
  {
   "cell_type": "code",
   "execution_count": 5,
   "id": "88e25a0b-7803-48ac-b5ef-6935d75c5144",
   "metadata": {},
   "outputs": [],
   "source": [
    "b=55.05"
   ]
  },
  {
   "cell_type": "code",
   "execution_count": 6,
   "id": "cf5153aa-af56-4a41-a8db-4e611b1d6be6",
   "metadata": {},
   "outputs": [
    {
     "data": {
      "text/plain": [
       "55.05"
      ]
     },
     "execution_count": 6,
     "metadata": {},
     "output_type": "execute_result"
    }
   ],
   "source": [
    "b"
   ]
  },
  {
   "cell_type": "code",
   "execution_count": 7,
   "id": "52665e20-1795-4812-800a-156a65d8e724",
   "metadata": {},
   "outputs": [],
   "source": [
    "T = (11,22,33)"
   ]
  },
  {
   "cell_type": "code",
   "execution_count": 8,
   "id": "a392a204-892b-4eb9-b583-34626e79615b",
   "metadata": {},
   "outputs": [
    {
     "data": {
      "text/plain": [
       "(11, 22, 33)"
      ]
     },
     "execution_count": 8,
     "metadata": {},
     "output_type": "execute_result"
    }
   ],
   "source": [
    "T"
   ]
  },
  {
   "cell_type": "code",
   "execution_count": 10,
   "id": "a0f71c37-b0b9-409b-be3f-506d60ae8b1d",
   "metadata": {},
   "outputs": [],
   "source": [
    "var=\"55\""
   ]
  },
  {
   "cell_type": "code",
   "execution_count": 11,
   "id": "2f16353f-3464-4595-b52d-a6fba36d6fec",
   "metadata": {},
   "outputs": [
    {
     "data": {
      "text/plain": [
       "'55'"
      ]
     },
     "execution_count": 11,
     "metadata": {},
     "output_type": "execute_result"
    }
   ],
   "source": [
    "var"
   ]
  },
  {
   "cell_type": "code",
   "execution_count": 12,
   "id": "204b2819-1336-498f-966f-439cab2a0372",
   "metadata": {},
   "outputs": [
    {
     "data": {
      "text/plain": [
       "str"
      ]
     },
     "execution_count": 12,
     "metadata": {},
     "output_type": "execute_result"
    }
   ],
   "source": [
    "type(var)"
   ]
  },
  {
   "cell_type": "code",
   "execution_count": 15,
   "id": "8a25ee9f-154d-4b22-ae95-187a90285014",
   "metadata": {},
   "outputs": [],
   "source": [
    "var2 = [ \"DS , ML , Python\"]"
   ]
  },
  {
   "cell_type": "code",
   "execution_count": 16,
   "id": "f43ce29d-46da-4147-95b5-ca5ec8853cac",
   "metadata": {},
   "outputs": [
    {
     "data": {
      "text/plain": [
       "list"
      ]
     },
     "execution_count": 16,
     "metadata": {},
     "output_type": "execute_result"
    }
   ],
   "source": [
    "type(var2)"
   ]
  },
  {
   "cell_type": "code",
   "execution_count": 21,
   "id": "837e7330-ec63-4296-ba2f-3b6763a6d32c",
   "metadata": {},
   "outputs": [],
   "source": [
    "var3 = [\"DS\" , \"ML\" , \"Python\"]"
   ]
  },
  {
   "cell_type": "code",
   "execution_count": 22,
   "id": "e39db569-ffdf-4b0a-971a-0a16f5289655",
   "metadata": {},
   "outputs": [
    {
     "data": {
      "text/plain": [
       "list"
      ]
     },
     "execution_count": 22,
     "metadata": {},
     "output_type": "execute_result"
    }
   ],
   "source": [
    "type(var3)"
   ]
  },
  {
   "cell_type": "code",
   "execution_count": 23,
   "id": "c6664ab1-5610-44b0-9b56-b6a2230a268f",
   "metadata": {},
   "outputs": [],
   "source": [
    "var4 = 1."
   ]
  },
  {
   "cell_type": "code",
   "execution_count": 24,
   "id": "bd706a22-bce6-4ce0-8022-07b01c06eeda",
   "metadata": {},
   "outputs": [
    {
     "data": {
      "text/plain": [
       "float"
      ]
     },
     "execution_count": 24,
     "metadata": {},
     "output_type": "execute_result"
    }
   ],
   "source": [
    "type(var4)"
   ]
  },
  {
   "cell_type": "code",
   "execution_count": 25,
   "id": "200a5a28-9558-4141-b7ad-a6dc21d3b937",
   "metadata": {},
   "outputs": [
    {
     "data": {
      "text/plain": [
       "0.5"
      ]
     },
     "execution_count": 25,
     "metadata": {},
     "output_type": "execute_result"
    }
   ],
   "source": [
    "5/10"
   ]
  },
  {
   "cell_type": "code",
   "execution_count": 26,
   "id": "ca3afa4c-e493-4234-aaf8-ae219410917f",
   "metadata": {},
   "outputs": [
    {
     "data": {
      "text/plain": [
       "50"
      ]
     },
     "execution_count": 26,
     "metadata": {},
     "output_type": "execute_result"
    }
   ],
   "source": [
    "50%100"
   ]
  },
  {
   "cell_type": "code",
   "execution_count": 27,
   "id": "5b8aeecf-4bd4-40e0-8460-b25da5df3905",
   "metadata": {},
   "outputs": [
    {
     "data": {
      "text/plain": [
       "1"
      ]
     },
     "execution_count": 27,
     "metadata": {},
     "output_type": "execute_result"
    }
   ],
   "source": [
    "7//5"
   ]
  },
  {
   "cell_type": "code",
   "execution_count": 2,
   "id": "a2c527d4-7314-422d-8878-3f5d3a5fe5c8",
   "metadata": {},
   "outputs": [
    {
     "data": {
      "text/plain": [
       "125"
      ]
     },
     "execution_count": 2,
     "metadata": {},
     "output_type": "execute_result"
    }
   ],
   "source": [
    "5**3\n"
   ]
  },
  {
   "cell_type": "code",
   "execution_count": 3,
   "id": "3df9dfe2-1d13-44cf-9ccc-e0c25bc8dfc5",
   "metadata": {},
   "outputs": [],
   "source": [
    "l=[1,5,\"Vishal\",55.10,True,\"King\",False,10,25,1+5j]"
   ]
  },
  {
   "cell_type": "code",
   "execution_count": 10,
   "id": "7903e611-5b2b-4d8f-8685-e801d896826a",
   "metadata": {},
   "outputs": [
    {
     "name": "stdout",
     "output_type": "stream",
     "text": [
      "1\n",
      "<class 'int'>\n",
      "5\n",
      "<class 'int'>\n",
      "Vishal\n",
      "<class 'str'>\n",
      "55.1\n",
      "<class 'float'>\n",
      "True\n",
      "<class 'bool'>\n",
      "King\n",
      "<class 'str'>\n",
      "False\n",
      "<class 'bool'>\n",
      "10\n",
      "<class 'int'>\n",
      "25\n",
      "<class 'int'>\n",
      "(1+5j)\n",
      "<class 'complex'>\n"
     ]
    }
   ],
   "source": [
    "for i in l:\n",
    "    print(i)\n",
    "    print(type(i))"
   ]
  },
  {
   "cell_type": "code",
   "execution_count": null,
   "id": "769bac28-e331-485a-b36d-8d0bce1bcd8c",
   "metadata": {},
   "outputs": [],
   "source": [
    "a=int(input())\n",
    "b=int(input())\n",
    "division=0\n",
    "while a%b==0:\n",
    "    a=a/b\n",
    "    division+=1\n",
    "if division > 0:\n",
    "    print(\"it is divisble by b\")\n",
    "    print(\"It can be divided {divisions} times\")\n",
    "else:\n",
    "    print(\"it is not divisble by b\")"
   ]
  },
  {
   "cell_type": "code",
   "execution_count": null,
   "id": "4aa7f668-103d-48ac-bd25-d8d531e143ae",
   "metadata": {},
   "outputs": [],
   "source": [
    "my_list = [1, 30, 22, 4, 5, 456, 4, 6, 4, 6, 1, 6, 46, 4, 6, 7, 7, 9]\n",
    "\n",
    "for num in my_list:\n",
    "    if num % 3 == 0:\n",
    "        print(\"num is divisible by 3\")\n",
    "    else:\n",
    "        print(\"num is not divisible by 3\")\n"
   ]
  },
  {
   "cell_type": "code",
   "execution_count": 2,
   "id": "24fccfe5-764e-4737-8028-a87e96e1d275",
   "metadata": {},
   "outputs": [],
   "source": [
    "my_list = [1, 30, 22, 4, 5, 456, 4, 6, 4, 6, 1, 6, 46, 4, 6, 7, 7, 9]\n"
   ]
  },
  {
   "cell_type": "code",
   "execution_count": 3,
   "id": "7cfa90f8-4770-4025-af3a-954367fa27ac",
   "metadata": {},
   "outputs": [
    {
     "data": {
      "text/plain": [
       "30"
      ]
     },
     "execution_count": 3,
     "metadata": {},
     "output_type": "execute_result"
    }
   ],
   "source": [
    "my_list[1]"
   ]
  },
  {
   "cell_type": "code",
   "execution_count": 5,
   "id": "419f7163-40a4-499b-add0-ae0d85ce0d4a",
   "metadata": {},
   "outputs": [],
   "source": [
    "my_list[1]=200"
   ]
  },
  {
   "cell_type": "code",
   "execution_count": 6,
   "id": "8a16d7d6-8cb4-479a-80cc-0ddcb2fde0ef",
   "metadata": {},
   "outputs": [
    {
     "data": {
      "text/plain": [
       "[1, 200, 22, 4, 5, 456, 4, 6, 4, 6, 1, 6, 46, 4, 6, 7, 7, 9]"
      ]
     },
     "execution_count": 6,
     "metadata": {},
     "output_type": "execute_result"
    }
   ],
   "source": [
    "my_list"
   ]
  },
  {
   "cell_type": "code",
   "execution_count": 7,
   "id": "3aadd524-4f00-496e-bdc0-ad9081ff4686",
   "metadata": {},
   "outputs": [],
   "source": [
    "list2=(1, 30, 22, 4, 5, 456, 4, 6, 4, 6, 1, 6, 46, 4, 6, 7, 7, 9)"
   ]
  },
  {
   "cell_type": "code",
   "execution_count": 8,
   "id": "ef01a4a1-87d1-4861-acc7-de9ca483c8fd",
   "metadata": {},
   "outputs": [
    {
     "data": {
      "text/plain": [
       "(1, 30, 22, 4, 5, 456, 4, 6, 4, 6, 1, 6, 46, 4, 6, 7, 7, 9)"
      ]
     },
     "execution_count": 8,
     "metadata": {},
     "output_type": "execute_result"
    }
   ],
   "source": [
    "list2"
   ]
  },
  {
   "cell_type": "code",
   "execution_count": 11,
   "id": "c611a767-e4c5-448d-aaaf-bd62f3bb4a2e",
   "metadata": {},
   "outputs": [
    {
     "ename": "SyntaxError",
     "evalue": "cannot assign to function call here. Maybe you meant '==' instead of '='? (965774277.py, line 1)",
     "output_type": "error",
     "traceback": [
      "\u001b[0;36m  Cell \u001b[0;32mIn[11], line 1\u001b[0;36m\u001b[0m\n\u001b[0;31m    list(2)=100\u001b[0m\n\u001b[0m    ^\u001b[0m\n\u001b[0;31mSyntaxError\u001b[0m\u001b[0;31m:\u001b[0m cannot assign to function call here. Maybe you meant '==' instead of '='?\n"
     ]
    }
   ],
   "source": [
    "list(2)=100\n"
   ]
  },
  {
   "cell_type": "code",
   "execution_count": 10,
   "id": "759969de-1b16-430a-8b1e-bab8ecc1b608",
   "metadata": {},
   "outputs": [
    {
     "data": {
      "text/plain": [
       "list[2]"
      ]
     },
     "execution_count": 10,
     "metadata": {},
     "output_type": "execute_result"
    }
   ],
   "source": [
    "list[2"
   ]
  },
  {
   "cell_type": "code",
   "execution_count": null,
   "id": "c879df2f-6f58-4f68-a294-4052b11ba73a",
   "metadata": {},
   "outputs": [],
   "source": []
  }
 ],
 "metadata": {
  "kernelspec": {
   "display_name": "Python 3 (ipykernel)",
   "language": "python",
   "name": "python3"
  },
  "language_info": {
   "codemirror_mode": {
    "name": "ipython",
    "version": 3
   },
   "file_extension": ".py",
   "mimetype": "text/x-python",
   "name": "python",
   "nbconvert_exporter": "python",
   "pygments_lexer": "ipython3",
   "version": "3.10.8"
  }
 },
 "nbformat": 4,
 "nbformat_minor": 5
}
